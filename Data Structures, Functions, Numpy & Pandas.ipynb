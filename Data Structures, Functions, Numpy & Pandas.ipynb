{
 "cells": [
  {
   "cell_type": "markdown",
   "id": "86b0b582",
   "metadata": {},
   "source": [
    "## Section A: Data Structures & Control Structures"
   ]
  },
  {
   "cell_type": "markdown",
   "id": "12aadcfb",
   "metadata": {},
   "source": [
    "### 1.Create a list of 5 integers. Perform and print the result of the following operations: append, extend, insert, remove, pop, clear, index, count, sort, and reverse."
   ]
  },
  {
   "cell_type": "code",
   "execution_count": 1,
   "id": "08ed829e",
   "metadata": {},
   "outputs": [],
   "source": [
    "# Create a list of 5 integers\n",
    "numbers = [10, 20, 30, 40, 50]\n"
   ]
  },
  {
   "cell_type": "code",
   "execution_count": 2,
   "id": "7c4fc5ef",
   "metadata": {},
   "outputs": [
    {
     "name": "stdout",
     "output_type": "stream",
     "text": [
      "After append: [10, 20, 30, 40, 50, 60]\n",
      "After extend: [10, 20, 30, 40, 50, 60, 70, 80]\n"
     ]
    }
   ],
   "source": [
    "\n",
    "# append\n",
    "numbers.append(60)\n",
    "print(\"After append:\", numbers)\n",
    "\n",
    "# extend\n",
    "numbers.extend([70, 80])\n",
    "print(\"After extend:\", numbers)\n"
   ]
  },
  {
   "cell_type": "code",
   "execution_count": 3,
   "id": "ca41c916",
   "metadata": {},
   "outputs": [
    {
     "name": "stdout",
     "output_type": "stream",
     "text": [
      "After insert: [10, 20, 25, 30, 40, 50, 60, 70, 80]\n",
      "After remove: [10, 20, 25, 30, 50, 60, 70, 80]\n"
     ]
    }
   ],
   "source": [
    "\n",
    "# insert\n",
    "numbers.insert(2, 25)  # insert at index 2\n",
    "print(\"After insert:\", numbers)\n",
    "\n",
    "# remove\n",
    "numbers.remove(40)  # removes the first occurrence of 40\n",
    "print(\"After remove:\", numbers)\n"
   ]
  },
  {
   "cell_type": "code",
   "execution_count": 4,
   "id": "ab21c568",
   "metadata": {},
   "outputs": [
    {
     "name": "stdout",
     "output_type": "stream",
     "text": [
      "After pop: [10, 20, 25, 30, 50, 60, 70] | Popped element: 80\n",
      "Index of 25: 2\n"
     ]
    }
   ],
   "source": [
    "\n",
    "# pop\n",
    "popped = numbers.pop()  # removes last element\n",
    "print(\"After pop:\", numbers, \"| Popped element:\", popped)\n",
    "\n",
    "# index\n",
    "idx = numbers.index(25)\n",
    "print(\"Index of 25:\", idx)\n"
   ]
  },
  {
   "cell_type": "code",
   "execution_count": 5,
   "id": "efa4781b",
   "metadata": {},
   "outputs": [
    {
     "name": "stdout",
     "output_type": "stream",
     "text": [
      "Count of 20: 1\n",
      "After sort: [10, 20, 25, 30, 50, 60, 70]\n"
     ]
    }
   ],
   "source": [
    "\n",
    "# count\n",
    "cnt = numbers.count(20)\n",
    "print(\"Count of 20:\", cnt)\n",
    "\n",
    "# sort\n",
    "numbers.sort()\n",
    "print(\"After sort:\", numbers)\n"
   ]
  },
  {
   "cell_type": "code",
   "execution_count": 6,
   "id": "be31841c",
   "metadata": {},
   "outputs": [
    {
     "name": "stdout",
     "output_type": "stream",
     "text": [
      "After reverse: [70, 60, 50, 30, 25, 20, 10]\n"
     ]
    }
   ],
   "source": [
    "\n",
    "# reverse\n",
    "numbers.reverse()\n",
    "print(\"After reverse:\", numbers)\n"
   ]
  },
  {
   "cell_type": "code",
   "execution_count": 7,
   "id": "b9efe240",
   "metadata": {},
   "outputs": [
    {
     "name": "stdout",
     "output_type": "stream",
     "text": [
      "After clear: []\n"
     ]
    }
   ],
   "source": [
    "\n",
    "# clear\n",
    "numbers.clear()\n",
    "print(\"After clear:\", numbers)\n"
   ]
  },
  {
   "cell_type": "markdown",
   "id": "232a0786",
   "metadata": {},
   "source": [
    "### 2.\tCreate a tuple that stores 3 student names. Try changing the second name in the tuple. What happens? Explain why."
   ]
  },
  {
   "cell_type": "code",
   "execution_count": 8,
   "id": "8bd9978a",
   "metadata": {},
   "outputs": [
    {
     "name": "stdout",
     "output_type": "stream",
     "text": [
      "Original Tuple: ('Alice', 'Bob', 'Charlie')\n"
     ]
    }
   ],
   "source": [
    "# Create a tuple with 3 student names\n",
    "students = (\"Alice\", \"Bob\", \"Charlie\")\n",
    "print(\"Original Tuple:\", students)\n"
   ]
  },
  {
   "cell_type": "code",
   "execution_count": 9,
   "id": "47c0694d",
   "metadata": {},
   "outputs": [
    {
     "ename": "TypeError",
     "evalue": "'tuple' object does not support item assignment",
     "output_type": "error",
     "traceback": [
      "\u001b[1;31m---------------------------------------------------------------------------\u001b[0m",
      "\u001b[1;31mTypeError\u001b[0m                                 Traceback (most recent call last)",
      "\u001b[1;32m~\\AppData\\Local\\Temp\\ipykernel_13360\\813672587.py\u001b[0m in \u001b[0;36m<module>\u001b[1;34m\u001b[0m\n\u001b[1;32m----> 1\u001b[1;33m \u001b[0mstudents\u001b[0m\u001b[1;33m[\u001b[0m\u001b[1;36m1\u001b[0m\u001b[1;33m]\u001b[0m \u001b[1;33m=\u001b[0m \u001b[1;34m\"David\"\u001b[0m\u001b[1;33m\u001b[0m\u001b[1;33m\u001b[0m\u001b[0m\n\u001b[0m",
      "\u001b[1;31mTypeError\u001b[0m: 'tuple' object does not support item assignment"
     ]
    }
   ],
   "source": [
    "students[1] = \"David\"\n"
   ]
  },
  {
   "cell_type": "markdown",
   "id": "d525fe28",
   "metadata": {},
   "source": [
    " Tuples in Python are immutable, which means once they are created, their elements cannot be modified, added, or removed.\n",
    "\n",
    "That’s why you cannot change \"Bob\" to \"David\" directly.\n",
    "\n",
    "If you really want to modify it, you’d have to convert the tuple into a list, make the change, and then convert it back to a tuple"
   ]
  },
  {
   "cell_type": "markdown",
   "id": "2053402d",
   "metadata": {},
   "source": [
    "### 3.\tCreate a set of integers with some duplicate values. Print the set and explain the output."
   ]
  },
  {
   "cell_type": "code",
   "execution_count": 10,
   "id": "de2c5f4a",
   "metadata": {},
   "outputs": [
    {
     "name": "stdout",
     "output_type": "stream",
     "text": [
      "Set: {1, 2, 3, 4, 5}\n"
     ]
    }
   ],
   "source": [
    "\n",
    "numbers = {1, 2, 2, 3, 4, 4, 5}\n",
    "\n",
    "\n",
    "print(\"Set:\", numbers)\n"
   ]
  },
  {
   "cell_type": "markdown",
   "id": "aaf15633",
   "metadata": {},
   "source": [
    "A set in Python is an unordered collection of unique elements.\n",
    "\n",
    "When you add duplicate values (2, 4 in this case), Python removes the duplicates automatically.\n",
    "\n",
    "That’s why the output only shows {1, 2, 3, 4, 5} without repetitions."
   ]
  },
  {
   "cell_type": "markdown",
   "id": "b05adf78",
   "metadata": {},
   "source": [
    "### 4.\tCreate a dictionary with the keys: 'name', 'age', and 'city'. Update the age and add a new key 'email'. Print the final dictionary."
   ]
  },
  {
   "cell_type": "code",
   "execution_count": 13,
   "id": "c3f06231",
   "metadata": {},
   "outputs": [],
   "source": [
    "\n",
    "person = {\n",
    "    \"name\": \"John\",\n",
    "    \"age\": 25,\n",
    "    \"city\": \"Mumbai\"\n",
    "}\n"
   ]
  },
  {
   "cell_type": "code",
   "execution_count": 14,
   "id": "90ae9fe4",
   "metadata": {},
   "outputs": [
    {
     "name": "stdout",
     "output_type": "stream",
     "text": [
      "Final Dictionary: {'name': 'John', 'age': 26, 'city': 'Mumbai', 'email': 'john@example.com'}\n"
     ]
    }
   ],
   "source": [
    "\n",
    "# Update the age\n",
    "person[\"age\"] = 26\n",
    "\n",
    "# Add a new key 'email'\n",
    "person[\"email\"] = \"john@example.com\"\n",
    "\n",
    "# Print final dictionary\n",
    "print(\"Final Dictionary:\", person)\n"
   ]
  },
  {
   "cell_type": "markdown",
   "id": "5229b71e",
   "metadata": {},
   "source": [
    "### 5.\t Write a script that checks if a person is eligible to vote (age ≥ 18). Take age as a variable and print the appropriate message."
   ]
  },
  {
   "cell_type": "code",
   "execution_count": 15,
   "id": "70f5a4b6",
   "metadata": {},
   "outputs": [
    {
     "name": "stdout",
     "output_type": "stream",
     "text": [
      "Not eligible to vote \n"
     ]
    }
   ],
   "source": [
    "\n",
    "age = 17 \n",
    "\n",
    "# Check eligibility\n",
    "if age >= 18:\n",
    "    print(\"Eligible to vote \")\n",
    "else:\n",
    "    print(\"Not eligible to vote \")\n"
   ]
  },
  {
   "cell_type": "markdown",
   "id": "76c15302",
   "metadata": {},
   "source": [
    "### 6.\tGiven a 'marks' variable, print the grade:\n",
    "### - 90 and above: 'A'\n",
    "### - 75–89: 'B'\n",
    "### - 50–74: 'C'\n",
    "### - Below 50: 'Fail'\n"
   ]
  },
  {
   "cell_type": "code",
   "execution_count": 16,
   "id": "7a71da29",
   "metadata": {},
   "outputs": [
    {
     "name": "stdout",
     "output_type": "stream",
     "text": [
      "Grade: B\n"
     ]
    }
   ],
   "source": [
    "# Grading system\n",
    "\n",
    "marks = 82  \n",
    "\n",
    "if marks >= 90:\n",
    "    print(\"Grade: A\")\n",
    "elif marks >= 75:\n",
    "    print(\"Grade: B\")\n",
    "elif marks >= 50:\n",
    "    print(\"Grade: C\")\n",
    "else:\n",
    "    print(\"Grade: Fail\")\n"
   ]
  },
  {
   "cell_type": "markdown",
   "id": "3f4c3ea5",
   "metadata": {},
   "source": [
    "### 7.\tGiven a number, check if it's positive, and if it is also even. If not positive, print if it's zero or negative."
   ]
  },
  {
   "cell_type": "code",
   "execution_count": 17,
   "id": "2ac62835",
   "metadata": {},
   "outputs": [
    {
     "name": "stdout",
     "output_type": "stream",
     "text": [
      "Negative number\n"
     ]
    }
   ],
   "source": [
    "\n",
    "\n",
    "num = -5  \n",
    "\n",
    "if num > 0:\n",
    "    if num % 2 == 0:\n",
    "        print(\"Positive and Even\")\n",
    "    else:\n",
    "        print(\"Positive but Odd\")\n",
    "elif num == 0:\n",
    "    print(\"The number is Zero\")\n",
    "else:\n",
    "    print(\"Negative number\")\n"
   ]
  },
  {
   "cell_type": "code",
   "execution_count": null,
   "id": "29f48ed4",
   "metadata": {},
   "outputs": [],
   "source": []
  },
  {
   "cell_type": "markdown",
   "id": "65ecb2b2",
   "metadata": {},
   "source": [
    "## Section B: Numpy"
   ]
  },
  {
   "cell_type": "markdown",
   "id": "d493105e",
   "metadata": {},
   "source": [
    "### 8.\tCreate:\n",
    "### - A scalar using np.array(5)\n",
    "### - A 1D array with values 1 to 5\n",
    "### - A 2D array (2x3) with values from 10 to 60 in steps of 10\n"
   ]
  },
  {
   "cell_type": "code",
   "execution_count": 18,
   "id": "53db8002",
   "metadata": {},
   "outputs": [
    {
     "name": "stdout",
     "output_type": "stream",
     "text": [
      "Scalar:\n",
      " 5\n",
      "\n",
      "1D Array:\n",
      " [1 2 3 4 5]\n",
      "\n",
      "2D Array (2x3):\n",
      " [[10 20 30]\n",
      " [40 50 60]]\n"
     ]
    }
   ],
   "source": [
    "import numpy as np\n",
    "\n",
    "scalar = np.array(5)\n",
    "print(\"Scalar:\\n\", scalar)\n",
    "\n",
    "\n",
    "array_1d = np.array([1, 2, 3, 4, 5])\n",
    "print(\"\\n1D Array:\\n\", array_1d)\n",
    "\n",
    "array_2d = np.array([[10, 20, 30], [40, 50, 60]])\n",
    "print(\"\\n2D Array (2x3):\\n\", array_2d)\n"
   ]
  },
  {
   "cell_type": "markdown",
   "id": "54673bf3",
   "metadata": {},
   "source": [
    "### 9.\tGenerate a 4x4 Numpy array of random integers between 0 and 100 using np.random.randint()."
   ]
  },
  {
   "cell_type": "code",
   "execution_count": 19,
   "id": "a1472779",
   "metadata": {},
   "outputs": [
    {
     "name": "stdout",
     "output_type": "stream",
     "text": [
      "\n",
      "4x4 Random Array:\n",
      " [[ 8 71 23 90]\n",
      " [24 10 87 40]\n",
      " [14 84  5 27]\n",
      " [29 20 39 72]]\n"
     ]
    }
   ],
   "source": [
    "\n",
    "random_array = np.random.randint(0, 101, size=(4,4))\n",
    "print(\"\\n4x4 Random Array:\\n\", random_array)\n"
   ]
  },
  {
   "cell_type": "markdown",
   "id": "734cf94f",
   "metadata": {},
   "source": [
    "### 10. Convert NumPy Array to Pandas DataFrame"
   ]
  },
  {
   "cell_type": "code",
   "execution_count": 21,
   "id": "19827897",
   "metadata": {},
   "outputs": [
    {
     "name": "stderr",
     "output_type": "stream",
     "text": [
      "C:\\Users\\Shreyas Bagave\\anaconda3\\lib\\site-packages\\pandas\\core\\computation\\expressions.py:21: UserWarning: Pandas requires version '2.8.4' or newer of 'numexpr' (version '2.8.3' currently installed).\n",
      "  from pandas.core.computation.check import NUMEXPR_INSTALLED\n",
      "C:\\Users\\Shreyas Bagave\\anaconda3\\lib\\site-packages\\pandas\\core\\arrays\\masked.py:61: UserWarning: Pandas requires version '1.3.6' or newer of 'bottleneck' (version '1.3.5' currently installed).\n",
      "  from pandas.core import (\n"
     ]
    },
    {
     "name": "stdout",
     "output_type": "stream",
     "text": [
      "\n",
      "DataFrame:\n",
      "    A  B  C\n",
      "0  1  2  3\n",
      "1  4  5  6\n",
      "2  7  8  9\n"
     ]
    }
   ],
   "source": [
    "import pandas as pd\n",
    "array_3x3 = np.array([[1,2,3],\n",
    "                      [4,5,6],\n",
    "                      [7,8,9]])\n",
    "\n",
    "\n",
    "df = pd.DataFrame(array_3x3, columns=['A','B','C'])\n",
    "print(\"\\nDataFrame:\\n\", df)\n"
   ]
  },
  {
   "cell_type": "markdown",
   "id": "ce2af9fb",
   "metadata": {},
   "source": [
    "## Section C: Exploring Pandas"
   ]
  },
  {
   "cell_type": "markdown",
   "id": "c82c869e",
   "metadata": {},
   "source": [
    "### 11.\tCreate a small DataFrame manually with 10 rows and columns: 'Name', 'Age', 'City', and 'Salary'. Then:\n",
    "### - Use .info(), .describe()\n",
    "### - Select 'Name' and 'City' columns\n",
    "### - Drop 'City' column\n",
    "### - Fill any missing values in 'Salary' column with the mean\n",
    "### - Remove any duplicate rows\n"
   ]
  },
  {
   "cell_type": "code",
   "execution_count": 22,
   "id": "abef32be",
   "metadata": {},
   "outputs": [],
   "source": [
    "import pandas as pd\n",
    "import numpy as np\n",
    "\n",
    "\n",
    "data = {\n",
    "    \"Name\": [\"Alice\", \"Bob\", \"Charlie\", \"David\", \"Eva\", \n",
    "             \"Frank\", \"Grace\", \"Hannah\", \"Ivan\", \"Jack\"],\n",
    "    \"Age\": [25, 30, 22, 28, 35, 40, 29, 31, 27, 30],\n",
    "    \"City\": [\"Mumbai\", \"Delhi\", \"Bangalore\", \"Chennai\", \"Pune\", \n",
    "             \"Delhi\", \"Kolkata\", \"Bangalore\", \"Mumbai\", \"Delhi\"],\n",
    "    \"Salary\": [50000, 60000, np.nan, 55000, 70000, \n",
    "               60000, 65000, 55000, 50000, 60000]  \n",
    "}\n"
   ]
  },
  {
   "cell_type": "code",
   "execution_count": 23,
   "id": "6128cbce",
   "metadata": {},
   "outputs": [
    {
     "name": "stdout",
     "output_type": "stream",
     "text": [
      "Original DataFrame:\n",
      "       Name  Age       City   Salary\n",
      "0    Alice   25     Mumbai  50000.0\n",
      "1      Bob   30      Delhi  60000.0\n",
      "2  Charlie   22  Bangalore      NaN\n",
      "3    David   28    Chennai  55000.0\n",
      "4      Eva   35       Pune  70000.0\n",
      "5    Frank   40      Delhi  60000.0\n",
      "6    Grace   29    Kolkata  65000.0\n",
      "7   Hannah   31  Bangalore  55000.0\n",
      "8     Ivan   27     Mumbai  50000.0\n",
      "9     Jack   30      Delhi  60000.0\n",
      "\n",
      "DataFrame Info:\n",
      "<class 'pandas.core.frame.DataFrame'>\n",
      "RangeIndex: 10 entries, 0 to 9\n",
      "Data columns (total 4 columns):\n",
      " #   Column  Non-Null Count  Dtype  \n",
      "---  ------  --------------  -----  \n",
      " 0   Name    10 non-null     object \n",
      " 1   Age     10 non-null     int64  \n",
      " 2   City    10 non-null     object \n",
      " 3   Salary  9 non-null      float64\n",
      "dtypes: float64(1), int64(1), object(2)\n",
      "memory usage: 448.0+ bytes\n",
      "None\n",
      "\n",
      "DataFrame Description:\n",
      "             Age        Salary\n",
      "count  10.000000      9.000000\n",
      "mean   29.700000  58333.333333\n",
      "std     5.034327   6614.378278\n",
      "min    22.000000  50000.000000\n",
      "25%    27.250000  55000.000000\n",
      "50%    29.500000  60000.000000\n",
      "75%    30.750000  60000.000000\n",
      "max    40.000000  70000.000000\n"
     ]
    }
   ],
   "source": [
    "\n",
    "df = pd.DataFrame(data)\n",
    "print(\"Original DataFrame:\\n\", df)\n",
    "\n",
    "print(\"\\nDataFrame Info:\")\n",
    "print(df.info())\n",
    "\n",
    "print(\"\\nDataFrame Description:\")\n",
    "print(df.describe())\n"
   ]
  },
  {
   "cell_type": "code",
   "execution_count": 24,
   "id": "56ea6b8e",
   "metadata": {},
   "outputs": [
    {
     "name": "stdout",
     "output_type": "stream",
     "text": [
      "\n",
      "Selected Columns (Name, City):\n",
      "       Name       City\n",
      "0    Alice     Mumbai\n",
      "1      Bob      Delhi\n",
      "2  Charlie  Bangalore\n",
      "3    David    Chennai\n",
      "4      Eva       Pune\n",
      "5    Frank      Delhi\n",
      "6    Grace    Kolkata\n",
      "7   Hannah  Bangalore\n",
      "8     Ivan     Mumbai\n",
      "9     Jack      Delhi\n",
      "\n",
      "After Dropping 'City' column:\n",
      "       Name  Age   Salary\n",
      "0    Alice   25  50000.0\n",
      "1      Bob   30  60000.0\n",
      "2  Charlie   22      NaN\n",
      "3    David   28  55000.0\n",
      "4      Eva   35  70000.0\n",
      "5    Frank   40  60000.0\n",
      "6    Grace   29  65000.0\n",
      "7   Hannah   31  55000.0\n",
      "8     Ivan   27  50000.0\n",
      "9     Jack   30  60000.0\n"
     ]
    }
   ],
   "source": [
    "\n",
    "\n",
    "print(\"\\nSelected Columns (Name, City):\\n\", df[[\"Name\", \"City\"]])\n",
    "\n",
    "\n",
    "df_dropped = df.drop(columns=[\"City\"])\n",
    "print(\"\\nAfter Dropping 'City' column:\\n\", df_dropped)\n"
   ]
  },
  {
   "cell_type": "code",
   "execution_count": 25,
   "id": "01c4feef",
   "metadata": {},
   "outputs": [
    {
     "name": "stdout",
     "output_type": "stream",
     "text": [
      "\n",
      "After Filling Missing Salary with Mean:\n",
      "       Name  Age       City        Salary\n",
      "0    Alice   25     Mumbai  50000.000000\n",
      "1      Bob   30      Delhi  60000.000000\n",
      "2  Charlie   22  Bangalore  58333.333333\n",
      "3    David   28    Chennai  55000.000000\n",
      "4      Eva   35       Pune  70000.000000\n",
      "5    Frank   40      Delhi  60000.000000\n",
      "6    Grace   29    Kolkata  65000.000000\n",
      "7   Hannah   31  Bangalore  55000.000000\n",
      "8     Ivan   27     Mumbai  50000.000000\n",
      "9     Jack   30      Delhi  60000.000000\n",
      "\n",
      "After Removing Duplicates:\n",
      "       Name  Age       City        Salary\n",
      "0    Alice   25     Mumbai  50000.000000\n",
      "1      Bob   30      Delhi  60000.000000\n",
      "2  Charlie   22  Bangalore  58333.333333\n",
      "3    David   28    Chennai  55000.000000\n",
      "4      Eva   35       Pune  70000.000000\n",
      "5    Frank   40      Delhi  60000.000000\n",
      "6    Grace   29    Kolkata  65000.000000\n",
      "7   Hannah   31  Bangalore  55000.000000\n",
      "8     Ivan   27     Mumbai  50000.000000\n",
      "9     Jack   30      Delhi  60000.000000\n"
     ]
    },
    {
     "name": "stderr",
     "output_type": "stream",
     "text": [
      "C:\\Users\\Shreyas Bagave\\AppData\\Local\\Temp\\ipykernel_13360\\4106200194.py:1: FutureWarning: A value is trying to be set on a copy of a DataFrame or Series through chained assignment using an inplace method.\n",
      "The behavior will change in pandas 3.0. This inplace method will never work because the intermediate object on which we are setting values always behaves as a copy.\n",
      "\n",
      "For example, when doing 'df[col].method(value, inplace=True)', try using 'df.method({col: value}, inplace=True)' or df[col] = df[col].method(value) instead, to perform the operation inplace on the original object.\n",
      "\n",
      "\n",
      "  df[\"Salary\"].fillna(df[\"Salary\"].mean(), inplace=True)\n"
     ]
    }
   ],
   "source": [
    "\n",
    "\n",
    "df[\"Salary\"].fillna(df[\"Salary\"].mean(), inplace=True)\n",
    "print(\"\\nAfter Filling Missing Salary with Mean:\\n\", df)\n",
    "\n",
    "\n",
    "df_no_duplicates = df.drop_duplicates()\n",
    "print(\"\\nAfter Removing Duplicates:\\n\", df_no_duplicates)\n"
   ]
  },
  {
   "cell_type": "code",
   "execution_count": null,
   "id": "41d97fab",
   "metadata": {},
   "outputs": [],
   "source": []
  }
 ],
 "metadata": {
  "kernelspec": {
   "display_name": "Python 3 (ipykernel)",
   "language": "python",
   "name": "python3"
  },
  "language_info": {
   "codemirror_mode": {
    "name": "ipython",
    "version": 3
   },
   "file_extension": ".py",
   "mimetype": "text/x-python",
   "name": "python",
   "nbconvert_exporter": "python",
   "pygments_lexer": "ipython3",
   "version": "3.9.13"
  }
 },
 "nbformat": 4,
 "nbformat_minor": 5
}
