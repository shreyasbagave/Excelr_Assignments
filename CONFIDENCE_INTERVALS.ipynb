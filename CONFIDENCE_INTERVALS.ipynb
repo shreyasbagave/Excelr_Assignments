{
  "nbformat": 4,
  "nbformat_minor": 0,
  "metadata": {
    "colab": {
      "provenance": []
    },
    "kernelspec": {
      "name": "python3",
      "display_name": "Python 3"
    },
    "language_info": {
      "name": "python"
    }
  },
  "cells": [
    {
      "cell_type": "markdown",
      "source": [
        "Data\n",
        "A total of 15 print-heads were randomly selected and tested until failure. The durability of each print-head (in millions of characters) was recorded as follows:\n",
        "1.13, 1.55, 1.43, 0.92, 1.25, 1.36, 1.32, 0.85, 1.07, 1.48, 1.20, 1.33, 1.18, 1.22, 1.29\n"
      ],
      "metadata": {
        "id": "S75biloIcouJ"
      }
    },
    {
      "cell_type": "markdown",
      "source": [
        " **Calculate Sample Mean and Standard Deviation**\n",
        "\n",
        "**Durability data (in millions):**\n",
        "1.13, 1.55, 1.43, 0.92, 1.25, 1.36, 1.32, 0.85, 1.07, 1.48, 1.20, 1.33, 1.18, 1.22, 1.29\n",
        "\n",
        "**Sample size** (\n",
        "n): 15\n",
        "\n",
        "**Sample Mean** : (1.13+1.15+....+1.29)/15 = 1.239 (Rounded to 3 decimals)\n",
        "\n",
        "\n",
        "**Sample standard deviation** (\n",
        "s):\n",
        "0.193 (rounded, calculated with\n",
        "n\n",
        "−\n",
        "1 in the denominator)\n",
        "\n"
      ],
      "metadata": {
        "id": "ZsYav-czX2JX"
      }
    },
    {
      "cell_type": "markdown",
      "source": [
        "**a. Build 99% Confidence Interval Using Sample Standard Deviation**\n",
        "\n",
        "Assuming the sample is representative of the population, construct a 99% confidence interval for the mean number of characters printed before the print-head fails using the sample standard deviation. Explain the steps you take and the rationale behind using the t-distribution for this task.\n"
      ],
      "metadata": {
        "id": "wcYnjIkAXlpA"
      }
    },
    {
      "cell_type": "markdown",
      "source": [
        "**Find t-critical value for 99% confidence, degrees of freedom** = 14:\n",
        "\n",
        "t\n",
        "0.005,14\n",
        " ≈2.977 (from t-tables; calculated value used)\n",
        "\n",
        "**Standard Erro**r\n",
        "SE=s/√n=0.193/√15=0.0498\n",
        "\n",
        "**Margin of error:**\n",
        "ME=t0.005,14 x SE= 2.977 x 0.0498 =0.148\n",
        "\n",
        "**confidence Interval:**\n",
        "x+- = 1.239+-0.148\n",
        "\n",
        "**Lower Limit:** 1.239-0.148=1.090\n",
        "\n",
        "**UpperLimit:** 1.239+0.148=1.387\n",
        "\n",
        "**so(1.1090,1.387) million characters**"
      ],
      "metadata": {
        "id": "mW8Lxb15ZLeJ"
      }
    },
    {
      "cell_type": "code",
      "source": [],
      "metadata": {
        "id": "3JxgIExQXsGN"
      },
      "execution_count": null,
      "outputs": []
    },
    {
      "cell_type": "markdown",
      "source": [
        "**b. Build 99% Confidence Interval Using Known Population Standard Deviation**\n",
        "\n",
        "If it were known that the population standard deviation is 0.2 million characters, construct a 99% confidence interval for the mean number of characters printed before failure.\n"
      ],
      "metadata": {
        "id": "zgeG_WDma9q8"
      }
    },
    {
      "cell_type": "markdown",
      "source": [
        "**Population standard deviation (σ):** 0.2 million\n",
        "\n",
        "**z-critical value for 99% confidence:**\n",
        "z\n",
        "0.005\n",
        " ≈2.576 (from z-tables)\n",
        "\n",
        " **Standart Error**\n",
        "\n",
        " SE=σ/√n=0.2/√15=0.0526\n",
        "\n",
        " **Margin of Error:**\n",
        "\n",
        " ME=z0.005 x SE-2.576 x 0.0526 = 0.133\n",
        "\n",
        " **confidence interval**\n",
        "\n",
        " x+- ME=1.239+-0.133\n",
        "\n",
        " **Lower Limit:** 1.239-0.133=1.106\n",
        "\n",
        "**UpperLimit:** 1.239+0.133=1.372\n",
        "\n",
        "**so (1.106,1.372) millions characters**"
      ],
      "metadata": {
        "id": "Jo9ifxQMbFLz"
      }
    },
    {
      "cell_type": "code",
      "source": [],
      "metadata": {
        "id": "csR-1NVXcb5o"
      },
      "execution_count": null,
      "outputs": []
    }
  ]
}