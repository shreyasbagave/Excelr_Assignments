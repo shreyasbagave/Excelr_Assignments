{
 "cells": [
  {
   "cell_type": "markdown",
   "id": "4d47eb7c",
   "metadata": {},
   "source": [
    "### Prime numbers"
   ]
  },
  {
   "cell_type": "code",
   "execution_count": 1,
   "id": "b9055728",
   "metadata": {},
   "outputs": [
    {
     "name": "stdout",
     "output_type": "stream",
     "text": [
      "Enter a number to check if it's prime: 21\n",
      "21 is NOT a Prime number.\n"
     ]
    }
   ],
   "source": [
    "\n",
    "\n",
    "def is_prime(n):\n",
    "    if n <= 1:\n",
    "        return False\n",
    "    for i in range(2, int(n**0.5) + 1):  # check up to sqrt(n)\n",
    "        if n % i == 0:\n",
    "            return False\n",
    "    return True\n",
    "\n",
    "num = int(input(\"Enter a number to check if it's prime: \"))\n",
    "if is_prime(num):\n",
    "    print(f\"{num} is a Prime number.\")\n",
    "else:\n",
    "    print(f\"{num} is NOT a Prime number.\")\n"
   ]
  },
  {
   "cell_type": "markdown",
   "id": "4c353179",
   "metadata": {},
   "source": [
    "### Product of Random Numbers"
   ]
  },
  {
   "cell_type": "code",
   "execution_count": 1,
   "id": "d7c800c4",
   "metadata": {},
   "outputs": [
    {
     "name": "stdout",
     "output_type": "stream",
     "text": [
      "Multiply: 1 × 7\n",
      "Enter your answer: 7\n",
      "Correct! Well done.\n"
     ]
    }
   ],
   "source": [
    "import random\n",
    "\n",
    "\n",
    "num1 = random.randint(1, 10)\n",
    "num2 = random.randint(1, 10)\n",
    "\n",
    "\n",
    "print(f\"Multiply: {num1} × {num2}\")\n",
    "user_answer = int(input(\"Enter your answer: \"))\n",
    "\n",
    "\n",
    "if user_answer == num1 * num2:\n",
    "    print(\"Correct! Well done.\")\n",
    "else:\n",
    "    print(f\"Incorrect. The correct answer is {num1 * num2}.\")\n"
   ]
  },
  {
   "cell_type": "markdown",
   "id": "15faa18c",
   "metadata": {},
   "source": [
    "### Squares of Even or Odd Numbers"
   ]
  },
  {
   "cell_type": "code",
   "execution_count": 2,
   "id": "57071de5",
   "metadata": {},
   "outputs": [
    {
     "name": "stdout",
     "output_type": "stream",
     "text": [
      "Squares of odd numbers between 100 and 200:\n",
      "101^2 = 10201\n",
      "103^2 = 10609\n",
      "105^2 = 11025\n",
      "107^2 = 11449\n",
      "109^2 = 11881\n",
      "111^2 = 12321\n",
      "113^2 = 12769\n",
      "115^2 = 13225\n",
      "117^2 = 13689\n",
      "119^2 = 14161\n",
      "121^2 = 14641\n",
      "123^2 = 15129\n",
      "125^2 = 15625\n",
      "127^2 = 16129\n",
      "129^2 = 16641\n",
      "131^2 = 17161\n",
      "133^2 = 17689\n",
      "135^2 = 18225\n",
      "137^2 = 18769\n",
      "139^2 = 19321\n",
      "141^2 = 19881\n",
      "143^2 = 20449\n",
      "145^2 = 21025\n",
      "147^2 = 21609\n",
      "149^2 = 22201\n",
      "151^2 = 22801\n",
      "153^2 = 23409\n",
      "155^2 = 24025\n",
      "157^2 = 24649\n",
      "159^2 = 25281\n",
      "161^2 = 25921\n",
      "163^2 = 26569\n",
      "165^2 = 27225\n",
      "167^2 = 27889\n",
      "169^2 = 28561\n",
      "171^2 = 29241\n",
      "173^2 = 29929\n",
      "175^2 = 30625\n",
      "177^2 = 31329\n",
      "179^2 = 32041\n",
      "181^2 = 32761\n",
      "183^2 = 33489\n",
      "185^2 = 34225\n",
      "187^2 = 34969\n",
      "189^2 = 35721\n",
      "191^2 = 36481\n",
      "193^2 = 37249\n",
      "195^2 = 38025\n",
      "197^2 = 38809\n",
      "199^2 = 39601\n"
     ]
    }
   ],
   "source": [
    "print(\"Squares of odd numbers between 100 and 200:\")\n",
    "\n",
    "for num in range(101, 200, 2): \n",
    "    print(f\"{num}^2 = {num**2}\")\n"
   ]
  },
  {
   "cell_type": "markdown",
   "id": "9a354ca5",
   "metadata": {},
   "source": [
    "### Hospital Billing System"
   ]
  },
  {
   "cell_type": "code",
   "execution_count": 3,
   "id": "87dc2671",
   "metadata": {},
   "outputs": [],
   "source": [
    "\n",
    "room_charge_per_day = 2000\n",
    "consultation_fee = 1500\n",
    "lab_test_charge = 300\n",
    "discount_threshold = 10000\n",
    "discount_rate = 0.10\n",
    "\n",
    "# Patient details\n",
    "days_stayed = 4\n",
    "lab_tests = 3\n",
    "medicine_charges = 2400\n",
    "\n",
    "\n",
    "room_total = room_charge_per_day * days_stayed\n",
    "lab_total = lab_tests * lab_test_charge\n",
    "subtotal = room_total + consultation_fee + lab_total + medicine_charges\n",
    "\n",
    "\n",
    "if subtotal > discount_threshold:\n",
    "    discount = subtotal * discount_rate\n",
    "else:\n",
    "    discount = 0\n",
    "\n",
    "final_bill = subtotal - discount\n",
    "\n",
    "\n"
   ]
  },
  {
   "cell_type": "code",
   "execution_count": 4,
   "id": "e35926be",
   "metadata": {},
   "outputs": [
    {
     "name": "stdout",
     "output_type": "stream",
     "text": [
      "\n",
      "--- Hospital Bill ---\n",
      "Room Charges (4 days): ₹8000\n",
      "Doctor Consultation Fee: ₹1500\n",
      "Lab Test Charges (3 tests): ₹900\n",
      "Medicine Charges: ₹2400\n",
      "Subtotal: ₹12800\n",
      "Discount: -₹1280.0\n",
      "Final Bill: ₹11520.0\n"
     ]
    }
   ],
   "source": [
    "\n",
    "print(\"\\n--- Hospital Bill ---\")\n",
    "print(f\"Room Charges ({days_stayed} days): ₹{room_total}\")\n",
    "print(f\"Doctor Consultation Fee: ₹{consultation_fee}\")\n",
    "print(f\"Lab Test Charges ({lab_tests} tests): ₹{lab_total}\")\n",
    "print(f\"Medicine Charges: ₹{medicine_charges}\")\n",
    "print(f\"Subtotal: ₹{subtotal}\")\n",
    "print(f\"Discount: -₹{discount}\")\n",
    "print(f\"Final Bill: ₹{final_bill}\")"
   ]
  },
  {
   "cell_type": "code",
   "execution_count": null,
   "id": "6f4e6828",
   "metadata": {},
   "outputs": [],
   "source": []
  }
 ],
 "metadata": {
  "kernelspec": {
   "display_name": "Python 3 (ipykernel)",
   "language": "python",
   "name": "python3"
  },
  "language_info": {
   "codemirror_mode": {
    "name": "ipython",
    "version": 3
   },
   "file_extension": ".py",
   "mimetype": "text/x-python",
   "name": "python",
   "nbconvert_exporter": "python",
   "pygments_lexer": "ipython3",
   "version": "3.9.13"
  }
 },
 "nbformat": 4,
 "nbformat_minor": 5
}
