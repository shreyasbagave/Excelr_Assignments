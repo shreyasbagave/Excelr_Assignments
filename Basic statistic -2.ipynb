{
 "cells": [
  {
   "cell_type": "code",
   "execution_count": 1,
   "id": "39d46cc6",
   "metadata": {},
   "outputs": [
    {
     "name": "stderr",
     "output_type": "stream",
     "text": [
      "C:\\Users\\Shreyas Bagave\\anaconda3\\lib\\site-packages\\pandas\\core\\computation\\expressions.py:21: UserWarning: Pandas requires version '2.8.4' or newer of 'numexpr' (version '2.8.3' currently installed).\n",
      "  from pandas.core.computation.check import NUMEXPR_INSTALLED\n",
      "C:\\Users\\Shreyas Bagave\\anaconda3\\lib\\site-packages\\pandas\\core\\arrays\\masked.py:61: UserWarning: Pandas requires version '1.3.6' or newer of 'bottleneck' (version '1.3.5' currently installed).\n",
      "  from pandas.core import (\n"
     ]
    }
   ],
   "source": [
    "import pandas as pd\n",
    "import numpy as np\n"
   ]
  },
  {
   "cell_type": "code",
   "execution_count": 2,
   "id": "7ef6aab8",
   "metadata": {},
   "outputs": [],
   "source": [
    "\n",
    "patients = pd.read_csv(\"Patient_Data.csv\")\n",
    "billing = pd.read_csv(\"Billing_Data.csv\")\n"
   ]
  },
  {
   "cell_type": "code",
   "execution_count": 3,
   "id": "3ef0d46b",
   "metadata": {},
   "outputs": [
    {
     "name": "stdout",
     "output_type": "stream",
     "text": [
      "Patient Dataset Info:\n",
      "<class 'pandas.core.frame.DataFrame'>\n",
      "RangeIndex: 6 entries, 0 to 5\n",
      "Data columns (total 7 columns):\n",
      " #   Column          Non-Null Count  Dtype  \n",
      "---  ------          --------------  -----  \n",
      " 0   PatientID       6 non-null      int64  \n",
      " 1   Name            6 non-null      object \n",
      " 2   Department      6 non-null      object \n",
      " 3   Doctor          6 non-null      object \n",
      " 4   BillAmount      4 non-null      float64\n",
      " 5   ReceptionistID  6 non-null      int64  \n",
      " 6   CheckInTime     6 non-null      object \n",
      "dtypes: float64(1), int64(2), object(4)\n",
      "memory usage: 464.0+ bytes\n",
      "None\n",
      "\n",
      "Billing Dataset Info:\n",
      "<class 'pandas.core.frame.DataFrame'>\n",
      "RangeIndex: 5 entries, 0 to 4\n",
      "Data columns (total 3 columns):\n",
      " #   Column            Non-Null Count  Dtype\n",
      "---  ------            --------------  -----\n",
      " 0   PatientID         5 non-null      int64\n",
      " 1   InsuranceCovered  5 non-null      int64\n",
      " 2   FinalAmount       5 non-null      int64\n",
      "dtypes: int64(3)\n",
      "memory usage: 248.0 bytes\n",
      "None\n"
     ]
    }
   ],
   "source": [
    "\n",
    "print(\"Patient Dataset Info:\")\n",
    "print(patients.info())\n",
    "\n",
    "print(\"\\nBilling Dataset Info:\")\n",
    "print(billing.info())\n"
   ]
  },
  {
   "cell_type": "code",
   "execution_count": 4,
   "id": "5e5b5d8f",
   "metadata": {},
   "outputs": [
    {
     "name": "stdout",
     "output_type": "stream",
     "text": [
      "\n",
      "Relevant Patient Columns:\n",
      "    PatientID   Department     Doctor  BillAmount\n",
      "0        101   Cardiology  Dr. Smith      5000.0\n",
      "1        102    Neurology   Dr. John         NaN\n",
      "2        103  Orthopedics    Dr. Lee      7500.0\n",
      "3        104   Cardiology  Dr. Smith      6200.0\n",
      "4        105  Dermatology   Dr. Rose         NaN\n",
      "\n",
      "After Dropping Admin Columns:\n",
      "    PatientID     Name   Department     Doctor  BillAmount\n",
      "0        101    Alice   Cardiology  Dr. Smith      5000.0\n",
      "1        102      Bob    Neurology   Dr. John         NaN\n",
      "2        103  Charlie  Orthopedics    Dr. Lee      7500.0\n",
      "3        104    David   Cardiology  Dr. Smith      6200.0\n",
      "4        105      Eva  Dermatology   Dr. Rose         NaN\n"
     ]
    }
   ],
   "source": [
    "\n",
    "billing_relevant = patients[['PatientID', 'Department', 'Doctor', 'BillAmount']]\n",
    "print(\"\\nRelevant Patient Columns:\\n\", billing_relevant.head())\n",
    "\n",
    "\n",
    "patients_cleaned = patients.drop(columns=['ReceptionistID', 'CheckInTime'])\n",
    "print(\"\\nAfter Dropping Admin Columns:\\n\", patients_cleaned.head())\n"
   ]
  },
  {
   "cell_type": "code",
   "execution_count": 5,
   "id": "5706ce30",
   "metadata": {},
   "outputs": [
    {
     "name": "stdout",
     "output_type": "stream",
     "text": [
      "\n",
      "Total Bill Amount per Department:\n",
      "     Department  BillAmount\n",
      "0   Cardiology     16200.0\n",
      "1  Dermatology         0.0\n",
      "2    Neurology         0.0\n",
      "3  Orthopedics      7500.0\n",
      "\n",
      "After Removing Duplicate Patients:\n",
      "    PatientID     Name   Department     Doctor  BillAmount\n",
      "0        101    Alice   Cardiology  Dr. Smith      5000.0\n",
      "1        102      Bob    Neurology   Dr. John         NaN\n",
      "2        103  Charlie  Orthopedics    Dr. Lee      7500.0\n",
      "3        104    David   Cardiology  Dr. Smith      6200.0\n",
      "4        105      Eva  Dermatology   Dr. Rose         NaN\n"
     ]
    }
   ],
   "source": [
    "\n",
    "\n",
    "dept_bill = patients_cleaned.groupby('Department')['BillAmount'].sum().reset_index()\n",
    "print(\"\\nTotal Bill Amount per Department:\\n\", dept_bill)\n",
    "\n",
    "\n",
    "patients_unique = patients_cleaned.drop_duplicates(subset='PatientID', keep='first')\n",
    "print(\"\\nAfter Removing Duplicate Patients:\\n\", patients_unique)\n",
    "\n"
   ]
  },
  {
   "cell_type": "code",
   "execution_count": 6,
   "id": "c9744da4",
   "metadata": {},
   "outputs": [
    {
     "name": "stdout",
     "output_type": "stream",
     "text": [
      "\n",
      "After Filling Missing BillAmount:\n",
      "    PatientID     Name   Department     Doctor   BillAmount\n",
      "0        101    Alice   Cardiology  Dr. Smith  5000.000000\n",
      "1        102      Bob    Neurology   Dr. John  6233.333333\n",
      "2        103  Charlie  Orthopedics    Dr. Lee  7500.000000\n",
      "3        104    David   Cardiology  Dr. Smith  6200.000000\n",
      "4        105      Eva  Dermatology   Dr. Rose  6233.333333\n",
      "\n",
      "Merged Dataset:\n",
      "    PatientID     Name   Department     Doctor   BillAmount  InsuranceCovered  \\\n",
      "0        101    Alice   Cardiology  Dr. Smith  5000.000000              2000   \n",
      "1        102      Bob    Neurology   Dr. John  6233.333333              1500   \n",
      "2        103  Charlie  Orthopedics    Dr. Lee  7500.000000              2500   \n",
      "3        104    David   Cardiology  Dr. Smith  6200.000000              3000   \n",
      "4        105      Eva  Dermatology   Dr. Rose  6233.333333              1000   \n",
      "\n",
      "   FinalAmount  \n",
      "0         3000  \n",
      "1         3500  \n",
      "2         5000  \n",
      "3         3200  \n",
      "4         4000  \n"
     ]
    },
    {
     "name": "stderr",
     "output_type": "stream",
     "text": [
      "C:\\Users\\Shreyas Bagave\\AppData\\Local\\Temp\\ipykernel_21088\\582364730.py:3: FutureWarning: A value is trying to be set on a copy of a DataFrame or Series through chained assignment using an inplace method.\n",
      "The behavior will change in pandas 3.0. This inplace method will never work because the intermediate object on which we are setting values always behaves as a copy.\n",
      "\n",
      "For example, when doing 'df[col].method(value, inplace=True)', try using 'df.method({col: value}, inplace=True)' or df[col] = df[col].method(value) instead, to perform the operation inplace on the original object.\n",
      "\n",
      "\n",
      "  patients_unique['BillAmount'].fillna(mean_bill, inplace=True)\n",
      "C:\\Users\\Shreyas Bagave\\AppData\\Local\\Temp\\ipykernel_21088\\582364730.py:3: SettingWithCopyWarning: \n",
      "A value is trying to be set on a copy of a slice from a DataFrame\n",
      "\n",
      "See the caveats in the documentation: https://pandas.pydata.org/pandas-docs/stable/user_guide/indexing.html#returning-a-view-versus-a-copy\n",
      "  patients_unique['BillAmount'].fillna(mean_bill, inplace=True)\n"
     ]
    }
   ],
   "source": [
    "\n",
    "mean_bill = patients_unique['BillAmount'].mean()\n",
    "patients_unique['BillAmount'].fillna(mean_bill, inplace=True)\n",
    "print(\"\\nAfter Filling Missing BillAmount:\\n\", patients_unique)\n",
    "\n",
    "\n",
    "merged_df = pd.merge(patients_unique, billing, on=\"PatientID\", how=\"left\")\n",
    "print(\"\\nMerged Dataset:\\n\", merged_df.head())\n",
    "\n",
    "\n",
    "new_patients = pd.DataFrame({\n",
    "    \"PatientID\": [101, 102],\n",
    "    \"Name\": [\"Ravi\", \"Anita\"],\n",
    "    \"Department\": [\"Cardiology\", \"Neurology\"],\n",
    "    \"Doctor\": [\"Dr. Sharma\", \"Dr. Rao\"],\n",
    "    \"BillAmount\": [15000, 20000]\n",
    "})\n"
   ]
  },
  {
   "cell_type": "code",
   "execution_count": 7,
   "id": "4076169a",
   "metadata": {},
   "outputs": [
    {
     "name": "stdout",
     "output_type": "stream",
     "text": [
      "\n",
      "After Adding New Patients:\n",
      "    PatientID     Name   Department      Doctor    BillAmount  \\\n",
      "0        101    Alice   Cardiology   Dr. Smith   5000.000000   \n",
      "1        102      Bob    Neurology    Dr. John   6233.333333   \n",
      "2        103  Charlie  Orthopedics     Dr. Lee   7500.000000   \n",
      "3        104    David   Cardiology   Dr. Smith   6200.000000   \n",
      "4        105      Eva  Dermatology    Dr. Rose   6233.333333   \n",
      "5        101     Ravi   Cardiology  Dr. Sharma  15000.000000   \n",
      "6        102    Anita    Neurology     Dr. Rao  20000.000000   \n",
      "\n",
      "   InsuranceCovered  FinalAmount  \n",
      "0            2000.0       3000.0  \n",
      "1            1500.0       3500.0  \n",
      "2            2500.0       5000.0  \n",
      "3            3000.0       3200.0  \n",
      "4            1000.0       4000.0  \n",
      "5               NaN          NaN  \n",
      "6               NaN          NaN  \n"
     ]
    }
   ],
   "source": [
    "\n",
    "patients_final = pd.concat([merged_df, new_patients], ignore_index=True)\n",
    "print(\"\\nAfter Adding New Patients:\\n\", patients_final)\n",
    "\n",
    "\n",
    "new_billing_cols = pd.DataFrame({\n",
    "    \"InsuranceCovered\": [True, False, True, False, True, False, True],\n",
    "    \"FinalAmount\": [12000, 25000, 18000, 30000, 22000, 21000, 27000]\n",
    "})\n"
   ]
  },
  {
   "cell_type": "code",
   "execution_count": 9,
   "id": "d8f09815",
   "metadata": {},
   "outputs": [
    {
     "name": "stdout",
     "output_type": "stream",
     "text": [
      "\n",
      "Final Dataset with New Billing Columns:\n",
      "    PatientID     Name   Department      Doctor    BillAmount  \\\n",
      "0        101    Alice   Cardiology   Dr. Smith   5000.000000   \n",
      "1        102      Bob    Neurology    Dr. John   6233.333333   \n",
      "2        103  Charlie  Orthopedics     Dr. Lee   7500.000000   \n",
      "3        104    David   Cardiology   Dr. Smith   6200.000000   \n",
      "4        105      Eva  Dermatology    Dr. Rose   6233.333333   \n",
      "5        101     Ravi   Cardiology  Dr. Sharma  15000.000000   \n",
      "6        102    Anita    Neurology     Dr. Rao  20000.000000   \n",
      "\n",
      "   InsuranceCovered  FinalAmount  InsuranceCovered  FinalAmount  \\\n",
      "0            2000.0       3000.0              True        12000   \n",
      "1            1500.0       3500.0             False        25000   \n",
      "2            2500.0       5000.0              True        18000   \n",
      "3            3000.0       3200.0             False        30000   \n",
      "4            1000.0       4000.0              True        22000   \n",
      "5               NaN          NaN             False        21000   \n",
      "6               NaN          NaN              True        27000   \n",
      "\n",
      "   InsuranceCovered  FinalAmount  \n",
      "0              True        12000  \n",
      "1             False        25000  \n",
      "2              True        18000  \n",
      "3             False        30000  \n",
      "4              True        22000  \n",
      "5             False        21000  \n",
      "6              True        27000  \n",
      "\n",
      " Final Cleaned Dataset Ready for Analysis \n"
     ]
    }
   ],
   "source": [
    "\n",
    "\n",
    "patients_final = pd.concat([patients_final, new_billing_cols], axis=1)\n",
    "print(\"\\nFinal Dataset with New Billing Columns:\\n\", patients_final)\n",
    "\n",
    "print(\"\\n Final Cleaned Dataset Ready for Analysis \")\n"
   ]
  },
  {
   "cell_type": "code",
   "execution_count": null,
   "id": "7054c2f0",
   "metadata": {},
   "outputs": [],
   "source": []
  }
 ],
 "metadata": {
  "kernelspec": {
   "display_name": "Python 3 (ipykernel)",
   "language": "python",
   "name": "python3"
  },
  "language_info": {
   "codemirror_mode": {
    "name": "ipython",
    "version": 3
   },
   "file_extension": ".py",
   "mimetype": "text/x-python",
   "name": "python",
   "nbconvert_exporter": "python",
   "pygments_lexer": "ipython3",
   "version": "3.9.13"
  }
 },
 "nbformat": 4,
 "nbformat_minor": 5
}
